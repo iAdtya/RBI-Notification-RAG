{
 "cells": [
  {
   "cell_type": "code",
   "execution_count": null,
   "metadata": {},
   "outputs": [],
   "source": [
    "from langchain_community.document_loaders import (\n",
    "    BSHTMLLoader,\n",
    ")\n",
    "from langchain.text_splitter import RecursiveCharacterTextSplitter\n",
    "import os\n",
    "import time\n",
    "from pinecone import Pinecone\n",
    "from pinecone import PodSpec\n"
   ]
  },
  {
   "cell_type": "code",
   "execution_count": null,
   "metadata": {},
   "outputs": [],
   "source": [
    "\n",
    "folder_path = \"./toc_notifications_2023_1991/rbi_notification_2023_1991\"\n",
    "files = os.listdir(folder_path)\n",
    "\n",
    "loaders = [\n",
    "    BSHTMLLoader(os.path.join(folder_path, file))\n",
    "    for file in files\n",
    "    if file.endswith(\".html\")\n",
    "]\n",
    "# content = [loader.load() for loader in loaders]\n",
    "content = [doc for loader in loaders for doc in loader.load()]"
   ]
  },
  {
   "cell_type": "code",
   "execution_count": null,
   "metadata": {},
   "outputs": [],
   "source": [
    "text_split = RecursiveCharacterTextSplitter(chunk_size=1000, chunk_overlap=100)\n",
    "chunks = text_split.split_documents(content)"
   ]
  },
  {
   "cell_type": "code",
   "execution_count": null,
   "metadata": {},
   "outputs": [],
   "source": [
    "chunks_text = [doc.page_content for doc in chunks]\n",
    "\n",
    "type(chunks_text) #list"
   ]
  },
  {
   "cell_type": "code",
   "execution_count": null,
   "metadata": {},
   "outputs": [],
   "source": [
    "from dotenv import load_dotenv\n",
    "\n",
    "load_dotenv()\n",
    "\n",
    "OpenAI = os.getenv(\"OpenAI\")\n",
    "pinecone = os.getenv(\"pinecone\")\n",
    "OpenAI , pinecone"
   ]
  },
  {
   "cell_type": "code",
   "execution_count": null,
   "metadata": {},
   "outputs": [],
   "source": [
    "from openai import OpenAI\n",
    "\n",
    "client = OpenAI(\n",
    "  api_key=\"....\"\n",
    ")"
   ]
  },
  {
   "cell_type": "code",
   "execution_count": null,
   "metadata": {},
   "outputs": [],
   "source": [
    "MODEL = \"text-embedding-3-small\"\n",
    "\n",
    "response = client.embeddings.create(\n",
    "    input=[\n",
    "        \"Sample document text goes here\",\n",
    "        \"there will be several phrases in each batch\"\n",
    "    ], model=MODEL\n",
    ")\n"
   ]
  },
  {
   "cell_type": "code",
   "execution_count": null,
   "metadata": {},
   "outputs": [],
   "source": [
    "MODEL = \"text-embedding-3-small\"\n",
    "\n",
    "print(type(chunks_text))  # Check the type of chunks_text\n",
    "print(chunks_text)  # Print the content of chunks_text\n",
    "\n",
    "# Ensure chunks_text is a list of strings\n",
    "if not all(isinstance(item, str) for item in chunks_text):\n",
    "  chunks_text = [str(item) for item in chunks_text]\n",
    "\n",
    "# Call the API with the corrected chunks_text\n",
    "res = client.embeddings.create(\n",
    "  input=chunks_text,\n",
    "  model=MODEL,\n",
    ")\n",
    "\n",
    "res"
   ]
  },
  {
   "cell_type": "code",
   "execution_count": null,
   "metadata": {},
   "outputs": [],
   "source": [
    "embeds = [record.embedding for record in res.data]\n",
    "len(embeds) # 1470\n",
    "# embeds"
   ]
  },
  {
   "cell_type": "code",
   "execution_count": null,
   "metadata": {},
   "outputs": [],
   "source": [
    "# Define the number of tokens per page\n",
    "tokens_per_page = 800\n",
    "\n",
    "# Define the number of pages per dollar\n",
    "pages_per_dollar = 62500\n",
    "\n",
    "# Calculate the number of pages for 40 million tokens\n",
    "total_pages = 40000000 / tokens_per_page\n",
    "\n",
    "# Calculate the total cost\n",
    "total_cost = total_pages / pages_per_dollar\n",
    "\n",
    "# Print the total cost\n",
    "print(total_cost)"
   ]
  },
  {
   "cell_type": "code",
   "execution_count": null,
   "metadata": {},
   "outputs": [],
   "source": [
    "pc = Pinecone(api_key=pinecone)\n",
    "\n",
    "spec = PodSpec(environment=\"gcp-starter\")\n",
    "\n",
    "index_name = \"rbi-notification\"\n",
    "\n",
    "if index_name not in pc.list_indexes().names():\n",
    "    # if does not exist, create index\n",
    "    pc.create_index(\n",
    "        index_name,\n",
    "        dimension=len(embeds[0]),  # dimensionality of text-embed-3-small\n",
    "        metric=\"dotproduct\",\n",
    "        spec=spec,\n",
    "    )\n",
    "    # wait for index to be initialized\n",
    "    while not pc.describe_index(index_name).status[\"ready\"]:\n",
    "        time.sleep(1)\n",
    "\n",
    "# connect to index\n",
    "index = pc.Index(index_name)\n",
    "time.sleep(1)\n",
    "# view index stats\n",
    "index.describe_index_stats()"
   ]
  },
  {
   "cell_type": "code",
   "execution_count": null,
   "metadata": {},
   "outputs": [],
   "source": [
    "from datasets import load_dataset\n",
    "\n",
    "trec = load_dataset(\"trec\", split=\"train[:1000]\")"
   ]
  },
  {
   "cell_type": "code",
   "execution_count": null,
   "metadata": {},
   "outputs": [],
   "source": [
    "from tqdm.auto import tqdm\n",
    "\n",
    "count = 0\n",
    "batch_size = 100\n",
    "\n",
    "for i in tqdm(range(0, len(trec[\"text\"]), batch_size)):\n",
    "    i_end = min(i + batch_size, len(trec[\"text\"]))\n",
    "    lines_batch = trec[\"text\"][i : i + batch_size]\n",
    "    ids_batch = [str(n) for n in range(i, i_end)]\n",
    "    # create embeddings\n",
    "    res = client.embeddings.create(input=lines_batch, model=MODEL)\n",
    "    embeds = [record.embedding for record in res.data]\n",
    "    # prep metadata and upsert batch\n",
    "    meta = [{\"text\": line} for line in lines_batch]\n",
    "    to_upsert = zip(ids_batch, embeds, meta)\n",
    "    # upsert to Pinecone\n",
    "    index.upsert(vectors=list(to_upsert))"
   ]
  },
  {
   "cell_type": "code",
   "execution_count": null,
   "metadata": {},
   "outputs": [],
   "source": [
    "query = \"what was the notification in 2004 by rbi?\"\n",
    "\n",
    "xq = client.embeddings.create(input=query, model=MODEL).data[0].embedding\n",
    "xq\n"
   ]
  },
  {
   "cell_type": "code",
   "execution_count": null,
   "metadata": {},
   "outputs": [],
   "source": [
    "# res = index.query([xq], top_k=5, include_metadata=True)\n",
    "res = index.query(vector=[xq], top_k=5, include_metadata=True)"
   ]
  },
  {
   "cell_type": "code",
   "execution_count": null,
   "metadata": {},
   "outputs": [],
   "source": [
    "for match in res['matches']:\n",
    "    print(f\"{match['score']:.2f}: {match['metadata']['text']}\")"
   ]
  }
 ],
 "metadata": {
  "kernelspec": {
   "display_name": "Python 3",
   "language": "python",
   "name": "python3"
  },
  "language_info": {
   "codemirror_mode": {
    "name": "ipython",
    "version": 3
   },
   "file_extension": ".py",
   "mimetype": "text/x-python",
   "name": "python",
   "nbconvert_exporter": "python",
   "pygments_lexer": "ipython3",
   "version": "3.10.0"
  }
 },
 "nbformat": 4,
 "nbformat_minor": 2
}
